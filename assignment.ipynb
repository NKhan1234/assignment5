{
 "cells": [
  {
   "cell_type": "code",
   "execution_count": 1,
   "id": "c22c8eb6-b9e5-4abf-b894-166a1730357d",
   "metadata": {},
   "outputs": [],
   "source": [
    "# Q1. Explain Class and Object with respect to Object-Oriented Programming. Give a suitable example."
   ]
  },
  {
   "cell_type": "code",
   "execution_count": 2,
   "id": "0dde847c-b0d5-44e4-9063-658853493ba9",
   "metadata": {},
   "outputs": [],
   "source": [
    "# Object − Objects have states and behaviors.\n",
    "# Class − A class can be defined as a template/blueprint."
   ]
  },
  {
   "cell_type": "code",
   "execution_count": 3,
   "id": "528ab53d-7c48-4179-a439-78a581ffff38",
   "metadata": {},
   "outputs": [],
   "source": [
    "class man:\n",
    "    def __init__(self, name, age):\n",
    "        self.name = name\n",
    "        self.age = age\n",
    "        \n",
    "    def show(self):\n",
    "        print('A Man name is', self.name, 'and age is', self.age)"
   ]
  },
  {
   "cell_type": "code",
   "execution_count": 4,
   "id": "cba768d5-327c-422b-ac25-8069ed92a566",
   "metadata": {},
   "outputs": [],
   "source": [
    "obj = man(\"Nad\", 24)"
   ]
  },
  {
   "cell_type": "code",
   "execution_count": 5,
   "id": "38d0096c-8fc5-4991-9364-ef47b0c0b42f",
   "metadata": {},
   "outputs": [
    {
     "name": "stdout",
     "output_type": "stream",
     "text": [
      "A Man name is Nad and age is 24\n"
     ]
    }
   ],
   "source": [
    "obj.show()"
   ]
  },
  {
   "cell_type": "code",
   "execution_count": 6,
   "id": "35c41def-77c4-4174-ae50-7f377e32fbff",
   "metadata": {},
   "outputs": [],
   "source": [
    "# Q2. Name the four pillars of OOPs.\n",
    "# A2. Abstraction.\n",
    "#    Encapsulation.\n",
    "#    Inheritance.\n",
    "#     Polymorphism."
   ]
  },
  {
   "cell_type": "code",
   "execution_count": 7,
   "id": "b0e67322-412c-401e-9cda-be79d4a005ec",
   "metadata": {},
   "outputs": [],
   "source": [
    "# Q3. Explain why the __init__() function is used. Give a suitable example."
   ]
  },
  {
   "cell_type": "code",
   "execution_count": 14,
   "id": "3ef67f16-0132-43a8-acaa-124fe70c3063",
   "metadata": {},
   "outputs": [],
   "source": [
    "# A3.\n",
    "class home:\n",
    "    def __init__(self, home_num, members):\n",
    "        self.home_num = home_num\n",
    "        self.members = members\n",
    "        \n",
    "    def show1(self):\n",
    "        print(f\"Home number is\", self.home_num, \"and home members is\", self.members)"
   ]
  },
  {
   "cell_type": "code",
   "execution_count": 15,
   "id": "e2b8db41-9470-4770-87c0-edc7df007f7e",
   "metadata": {},
   "outputs": [],
   "source": [
    "o = home(3, 5)"
   ]
  },
  {
   "cell_type": "code",
   "execution_count": 16,
   "id": "dcbc9d2c-2a49-4bf4-af59-2782725e025b",
   "metadata": {},
   "outputs": [
    {
     "name": "stdout",
     "output_type": "stream",
     "text": [
      "Home number is 3 and home members is 5\n"
     ]
    }
   ],
   "source": [
    "o.show1()"
   ]
  },
  {
   "cell_type": "code",
   "execution_count": null,
   "id": "a4568bd3-ad89-4efa-b684-eedb6da0bf5e",
   "metadata": {},
   "outputs": [],
   "source": [
    "# Q4. Why self is used in OOPs?\n",
    "# A4.Python does not use the @ syntax to refer to instance attributes."
   ]
  },
  {
   "cell_type": "code",
   "execution_count": null,
   "id": "a99b90e7-cc14-45f1-a84a-cc9cc1acb287",
   "metadata": {},
   "outputs": [],
   "source": [
    "# Q5. What is inheritance? Give an example for each type of inheritance."
   ]
  },
  {
   "cell_type": "code",
   "execution_count": null,
   "id": "1e81e37f-a43e-422a-babd-b1c6df422a6b",
   "metadata": {},
   "outputs": [],
   "source": [
    "# A5.\n",
    "# Inheritance can be defined as the process of how a child receives genetic information from the parent. "
   ]
  },
  {
   "cell_type": "code",
   "execution_count": null,
   "id": "bc7d0d6b-bd15-48aa-a178-b80ebea26303",
   "metadata": {},
   "outputs": [],
   "source": [
    "\n",
    "class Parent:\n",
    "\tdef func1(self):\n",
    "\t\tprint(\"This function is in parent class.\")\n",
    "\n",
    "\n",
    "\n",
    "class Child(Parent):\n",
    "\tdef func2(self):\n",
    "\t\tprint(\"This function is in child class.\")\n",
    "\n",
    "\n",
    "\n",
    "object = Child()\n",
    "object.func1()\n",
    "object.func2()\n"
   ]
  }
 ],
 "metadata": {
  "kernelspec": {
   "display_name": "Python 3 (ipykernel)",
   "language": "python",
   "name": "python3"
  },
  "language_info": {
   "codemirror_mode": {
    "name": "ipython",
    "version": 3
   },
   "file_extension": ".py",
   "mimetype": "text/x-python",
   "name": "python",
   "nbconvert_exporter": "python",
   "pygments_lexer": "ipython3",
   "version": "3.10.8"
  }
 },
 "nbformat": 4,
 "nbformat_minor": 5
}
